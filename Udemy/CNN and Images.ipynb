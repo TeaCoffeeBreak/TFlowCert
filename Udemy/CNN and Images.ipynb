{
 "cells": [
  {
   "cell_type": "markdown",
   "metadata": {},
   "source": [
    "Adding convolutional layers to the perceptron and using the Keras Functional API"
   ]
  },
  {
   "cell_type": "code",
   "execution_count": 1,
   "metadata": {},
   "outputs": [
    {
     "name": "stdout",
     "output_type": "stream",
     "text": [
      "2.2.0\n"
     ]
    }
   ],
   "source": [
    "import tensorflow as tf\n",
    "print(tf.__version__)"
   ]
  },
  {
   "cell_type": "code",
   "execution_count": 3,
   "metadata": {},
   "outputs": [],
   "source": [
    "import numpy as np\n",
    "import matplotlib.pyplot as plt\n",
    "from tensorflow.keras.layers import Input, Conv2D, Dense, Flatten, Dropout\n",
    "from tensorflow.keras.models import Model"
   ]
  },
  {
   "cell_type": "code",
   "execution_count": 4,
   "metadata": {},
   "outputs": [
    {
     "name": "stdout",
     "output_type": "stream",
     "text": [
      "Downloading data from https://storage.googleapis.com/tensorflow/tf-keras-datasets/train-labels-idx1-ubyte.gz\n",
      "32768/29515 [=================================] - 0s 0us/step\n",
      "Downloading data from https://storage.googleapis.com/tensorflow/tf-keras-datasets/train-images-idx3-ubyte.gz\n",
      "26427392/26421880 [==============================] - 13s 0us/step\n",
      "Downloading data from https://storage.googleapis.com/tensorflow/tf-keras-datasets/t10k-labels-idx1-ubyte.gz\n",
      "8192/5148 [===============================================] - 0s 0us/step\n",
      "Downloading data from https://storage.googleapis.com/tensorflow/tf-keras-datasets/t10k-images-idx3-ubyte.gz\n",
      "4423680/4422102 [==============================] - 2s 0us/step\n",
      "(60000, 28, 28)\n"
     ]
    }
   ],
   "source": [
    "fashion_mnist = tf.keras.datasets.fashion_mnist\n",
    "\n",
    "(x_train, y_train), (x_test, y_test) = fashion_mnist.load_data()\n",
    "\n",
    "# Normalize pixels (original scale is 0 to 255)\n",
    "x_train, x_test = x_train / 255.0, x_test / 255.0\n",
    "\n",
    "print(x_train.shape)"
   ]
  },
  {
   "cell_type": "code",
   "execution_count": 5,
   "metadata": {},
   "outputs": [
    {
     "name": "stdout",
     "output_type": "stream",
     "text": [
      "(60000, 28, 28, 1)\n"
     ]
    }
   ],
   "source": [
    "# Need height by width by color, but we have grayscale, so add dimension\n",
    "x_train = np.expand_dims(x_train, -1)\n",
    "x_test = np.expand_dims(x_test, -1)\n",
    "print(x_train.shape)"
   ]
  },
  {
   "cell_type": "code",
   "execution_count": 6,
   "metadata": {},
   "outputs": [
    {
     "name": "stdout",
     "output_type": "stream",
     "text": [
      "10 classes\n"
     ]
    }
   ],
   "source": [
    "K = len(set(y_train))\n",
    "print(K, \"classes\")"
   ]
  },
  {
   "cell_type": "code",
   "execution_count": 7,
   "metadata": {},
   "outputs": [],
   "source": [
    "# Using the functional API\n",
    "i = Input(shape=x_train[0].shape)\n",
    "x = Conv2D(32, (3, 3), strides=2, activation='relu')(i)\n",
    "x = Conv2D(64, (3, 3), strides=2, activation='relu')(x)\n",
    "x = Conv2D(128, (3, 3), strides=2, activation='relu')(x)\n",
    "x = Flatten()(x)\n",
    "x = Dropout(0.2)(x)\n",
    "x = Dense(512, activation='relu')(x)\n",
    "x = Dropout(0.2)(x)\n",
    "x = Dense(K, activation='softmax')(x)\n",
    "\n",
    "model = Model(i, x)"
   ]
  },
  {
   "cell_type": "code",
   "execution_count": 8,
   "metadata": {},
   "outputs": [
    {
     "name": "stdout",
     "output_type": "stream",
     "text": [
      "Epoch 1/15\n",
      "1875/1875 [==============================] - 22s 12ms/step - loss: 0.5213 - accuracy: 0.8061 - val_loss: 0.3853 - val_accuracy: 0.8590\n",
      "Epoch 2/15\n",
      "1875/1875 [==============================] - 23s 12ms/step - loss: 0.3627 - accuracy: 0.8635 - val_loss: 0.3569 - val_accuracy: 0.8686\n",
      "Epoch 3/15\n",
      "1875/1875 [==============================] - 24s 13ms/step - loss: 0.3163 - accuracy: 0.8791 - val_loss: 0.3310 - val_accuracy: 0.8784\n",
      "Epoch 4/15\n",
      "1875/1875 [==============================] - 22s 12ms/step - loss: 0.2827 - accuracy: 0.8937 - val_loss: 0.3001 - val_accuracy: 0.8888\n",
      "Epoch 5/15\n",
      "1875/1875 [==============================] - 23s 12ms/step - loss: 0.2551 - accuracy: 0.9039 - val_loss: 0.2978 - val_accuracy: 0.8941\n",
      "Epoch 6/15\n",
      "1875/1875 [==============================] - 28s 15ms/step - loss: 0.2359 - accuracy: 0.9107 - val_loss: 0.2981 - val_accuracy: 0.8905\n",
      "Epoch 7/15\n",
      "1875/1875 [==============================] - 18s 10ms/step - loss: 0.2153 - accuracy: 0.9172 - val_loss: 0.3075 - val_accuracy: 0.8930\n",
      "Epoch 8/15\n",
      "1875/1875 [==============================] - 16s 9ms/step - loss: 0.2012 - accuracy: 0.9228 - val_loss: 0.3006 - val_accuracy: 0.8986\n",
      "Epoch 9/15\n",
      "1875/1875 [==============================] - 16s 8ms/step - loss: 0.1856 - accuracy: 0.9287 - val_loss: 0.2951 - val_accuracy: 0.8990\n",
      "Epoch 10/15\n",
      "1875/1875 [==============================] - 19s 10ms/step - loss: 0.1741 - accuracy: 0.9334 - val_loss: 0.3090 - val_accuracy: 0.8976\n",
      "Epoch 11/15\n",
      "1875/1875 [==============================] - 17s 9ms/step - loss: 0.1606 - accuracy: 0.9387 - val_loss: 0.3096 - val_accuracy: 0.9004\n",
      "Epoch 12/15\n",
      "1875/1875 [==============================] - 17s 9ms/step - loss: 0.1516 - accuracy: 0.9417 - val_loss: 0.3284 - val_accuracy: 0.8994\n",
      "Epoch 13/15\n",
      "1875/1875 [==============================] - 16s 9ms/step - loss: 0.1414 - accuracy: 0.9453 - val_loss: 0.3328 - val_accuracy: 0.9007\n",
      "Epoch 14/15\n",
      "1875/1875 [==============================] - 16s 8ms/step - loss: 0.1329 - accuracy: 0.9488 - val_loss: 0.3307 - val_accuracy: 0.8989\n",
      "Epoch 15/15\n",
      "1875/1875 [==============================] - 16s 9ms/step - loss: 0.1301 - accuracy: 0.9506 - val_loss: 0.3504 - val_accuracy: 0.8994\n"
     ]
    }
   ],
   "source": [
    "model.compile(optimizer='adam',\n",
    "             loss='sparse_categorical_crossentropy',\n",
    "             metrics=['accuracy'])\n",
    "r = model.fit(x_train, y_train, validation_data=(x_test, y_test), epochs=15)"
   ]
  },
  {
   "cell_type": "code",
   "execution_count": null,
   "metadata": {},
   "outputs": [],
   "source": []
  }
 ],
 "metadata": {
  "kernelspec": {
   "display_name": "Python 3",
   "language": "python",
   "name": "python3"
  },
  "language_info": {
   "codemirror_mode": {
    "name": "ipython",
    "version": 3
   },
   "file_extension": ".py",
   "mimetype": "text/x-python",
   "name": "python",
   "nbconvert_exporter": "python",
   "pygments_lexer": "ipython3",
   "version": "3.7.6"
  }
 },
 "nbformat": 4,
 "nbformat_minor": 4
}
